{
  "cells": [
    {
      "cell_type": "code",
      "source": [
        "import sys"
      ],
      "metadata": {
        "id": "pj606RBwD3Y0"
      },
      "execution_count": 1,
      "outputs": []
    },
    {
      "cell_type": "code",
      "source": [
        "L=[]"
      ],
      "metadata": {
        "id": "IrUwwlDTD7-n"
      },
      "execution_count": 2,
      "outputs": []
    },
    {
      "cell_type": "code",
      "source": [
        "sys.getsizeof(L)"
      ],
      "metadata": {
        "colab": {
          "base_uri": "https://localhost:8080/"
        },
        "id": "-0WoarQKD9M7",
        "outputId": "b7f88767-4d20-4396-c8b9-5755af804fc4"
      },
      "execution_count": 3,
      "outputs": [
        {
          "output_type": "execute_result",
          "data": {
            "text/plain": [
              "56"
            ]
          },
          "metadata": {},
          "execution_count": 3
        }
      ]
    },
    {
      "cell_type": "code",
      "source": [
        "for i in range(100):\n",
        "  print(i,sys.getsizeof(L))\n",
        "  L.append(i)"
      ],
      "metadata": {
        "colab": {
          "base_uri": "https://localhost:8080/"
        },
        "id": "Haa8IG65EBQb",
        "outputId": "d9d37e6c-966f-4066-fe34-cc98ace08cca"
      },
      "execution_count": 4,
      "outputs": [
        {
          "output_type": "stream",
          "name": "stdout",
          "text": [
            "0 56\n",
            "1 88\n",
            "2 88\n",
            "3 88\n",
            "4 88\n",
            "5 120\n",
            "6 120\n",
            "7 120\n",
            "8 120\n",
            "9 184\n",
            "10 184\n",
            "11 184\n",
            "12 184\n",
            "13 184\n",
            "14 184\n",
            "15 184\n",
            "16 184\n",
            "17 248\n",
            "18 248\n",
            "19 248\n",
            "20 248\n",
            "21 248\n",
            "22 248\n",
            "23 248\n",
            "24 248\n",
            "25 312\n",
            "26 312\n",
            "27 312\n",
            "28 312\n",
            "29 312\n",
            "30 312\n",
            "31 312\n",
            "32 312\n",
            "33 376\n",
            "34 376\n",
            "35 376\n",
            "36 376\n",
            "37 376\n",
            "38 376\n",
            "39 376\n",
            "40 376\n",
            "41 472\n",
            "42 472\n",
            "43 472\n",
            "44 472\n",
            "45 472\n",
            "46 472\n",
            "47 472\n",
            "48 472\n",
            "49 472\n",
            "50 472\n",
            "51 472\n",
            "52 472\n",
            "53 568\n",
            "54 568\n",
            "55 568\n",
            "56 568\n",
            "57 568\n",
            "58 568\n",
            "59 568\n",
            "60 568\n",
            "61 568\n",
            "62 568\n",
            "63 568\n",
            "64 568\n",
            "65 664\n",
            "66 664\n",
            "67 664\n",
            "68 664\n",
            "69 664\n",
            "70 664\n",
            "71 664\n",
            "72 664\n",
            "73 664\n",
            "74 664\n",
            "75 664\n",
            "76 664\n",
            "77 792\n",
            "78 792\n",
            "79 792\n",
            "80 792\n",
            "81 792\n",
            "82 792\n",
            "83 792\n",
            "84 792\n",
            "85 792\n",
            "86 792\n",
            "87 792\n",
            "88 792\n",
            "89 792\n",
            "90 792\n",
            "91 792\n",
            "92 792\n",
            "93 920\n",
            "94 920\n",
            "95 920\n",
            "96 920\n",
            "97 920\n",
            "98 920\n",
            "99 920\n"
          ]
        }
      ]
    },
    {
      "cell_type": "code",
      "source": [],
      "metadata": {
        "id": "2L2Zyia4EUjc"
      },
      "execution_count": null,
      "outputs": []
    }
  ],
  "metadata": {
    "colab": {
      "name": "Welcome To Colab",
      "provenance": []
    },
    "kernelspec": {
      "display_name": "Python 3",
      "name": "python3"
    }
  },
  "nbformat": 4,
  "nbformat_minor": 0
}